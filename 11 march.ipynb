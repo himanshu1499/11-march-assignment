{
 "cells": [
  {
   "cell_type": "code",
   "execution_count": 1,
   "id": "8e2a8fcc-7b2d-453b-a0bf-03987f6e2713",
   "metadata": {},
   "outputs": [],
   "source": [
    "#q14"
   ]
  },
  {
   "cell_type": "code",
   "execution_count": null,
   "id": "3bbdeef9-38cb-4ceb-9f53-e8088152da88",
   "metadata": {},
   "outputs": [],
   "source": [
    "\n",
    "\n",
    "To conduct a hypothesis test, we need to state our null and alternative hypotheses. \n",
    "\n",
    "Null hypothesis (H0): Caffeine has no significant effect on reaction time (μ = 0.25).\n",
    "Alternative hypothesis (Ha): Caffeine has a significant effect on reaction time (μ ≠ 0.25).\n",
    "\n",
    "We will use a two-tailed t-test since we are testing for a significant difference in either direction from the population mean. \n",
    "\n",
    "We will use a significance level of 0.1, which corresponds to a confidence level of 90%.\n",
    "\n",
    "The formula for the t-test statistic is:\n",
    "\n",
    "t = (x̄ - μ) / (s / √n)\n",
    "\n",
    "where:\n",
    "x̄ = sample mean\n",
    "μ = population mean (from null hypothesis)\n",
    "s = sample standard deviation\n",
    "n = sample size\n",
    "\n",
    "Substituting the given values, we get:\n",
    "\n",
    "t = (0.25 - 0.25) / (0.05 / √30) = 0 / 0.009146 = 0\n",
    "\n",
    "The calculated t-value is 0.\n",
    "\n",
    "The critical t-value for a two-tailed test with 29 degrees of freedom at a significance level of 0.1 is ±1.699.\n",
    "\n",
    "Since our calculated t-value (0) falls within the acceptance range of -1.699 to 1.699, we fail to reject the null hypothesis.\n",
    "\n",
    "Therefore, we can conclude that there is not enough evidence to support the claim that caffeine has a significant effect on reaction time at a 90% confidence level."
   ]
  },
  {
   "cell_type": "code",
   "execution_count": 2,
   "id": "2154e360-e8ec-4986-bfa4-c3ce03c3f6a8",
   "metadata": {},
   "outputs": [],
   "source": [
    "#q13"
   ]
  },
  {
   "cell_type": "code",
   "execution_count": null,
   "id": "991cbbca-220f-4453-9f72-a1f1b285a2c5",
   "metadata": {},
   "outputs": [],
   "source": [
    "\n",
    "\n",
    "To calculate the 90% confidence interval for the true population mean, we will use the formula:\n",
    "\n",
    "CI = x̄ ± z * (σ / √n)\n",
    "\n",
    "where:\n",
    "x̄ = sample mean\n",
    "σ = population standard deviation\n",
    "n = sample size\n",
    "z = z-score from the standard normal distribution corresponding to the desired confidence level\n",
    "\n",
    "Substituting the given values, we get:\n",
    "\n",
    "CI = 65 ± z * (8 / √50)\n",
    "\n",
    "The z-score corresponding to a 90% confidence level can be found using a standard normal distribution table or calculator. For a two-tailed test, the z-score is 1.645.\n",
    "\n",
    "Substituting this value, we get:\n",
    "\n",
    "CI = 65 ± 1.645 * (8 / √50)\n",
    "\n",
    "Simplifying, we get:\n",
    "\n",
    "CI = 65 ± 2.316\n",
    "\n",
    "Therefore, the 90% confidence interval for the true population mean is (62.684, 67.316). \n",
    "\n",
    "We can interpret this interval as follows: We are 90% confident that the true population mean falls between 62.684 and 67.316 based on the given sample data."
   ]
  },
  {
   "cell_type": "code",
   "execution_count": null,
   "id": "50a1cc23-bb95-465a-b24e-6ecf3acda232",
   "metadata": {},
   "outputs": [],
   "source": [
    "#q12"
   ]
  },
  {
   "cell_type": "code",
   "execution_count": null,
   "id": "62a10e1a-d4a8-4584-ba5a-974b4864b4e0",
   "metadata": {},
   "outputs": [],
   "source": [
    "\n",
    "\n",
    "To conduct a hypothesis test to determine if the two teaching methods have a significant difference in student performance, we need to state our null and alternative hypotheses.\n",
    "\n",
    "Null hypothesis (H0): The two teaching methods have no significant difference in student performance (μA - μB = 0).\n",
    "Alternative hypothesis (Ha): The two teaching methods have a significant difference in student performance (μA - μB ≠ 0).\n",
    "\n",
    "We will use a two-tailed t-test since we are testing for a significant difference in either direction between the means of two independent samples.\n",
    "\n",
    "We will use a significance level of 0.01.\n",
    "\n",
    "The formula for the t-test statistic for two independent samples is:\n",
    "\n",
    "t = (x̄A - x̄B) / s * √(1/nA + 1/nB)\n",
    "\n",
    "where:\n",
    "x̄A = mean of sample A\n",
    "x̄B = mean of sample B\n",
    "s = pooled standard deviation\n",
    "nA = sample size of sample A\n",
    "nB = sample size of sample B\n",
    "\n",
    "The pooled standard deviation formula is:\n",
    "\n",
    "s = √((nA - 1)sA^2 + (nB - 1)sB^2) / (nA + nB - 2)\n",
    "\n",
    "where:\n",
    "sA = standard deviation of sample A\n",
    "sB = standard deviation of sample B\n",
    "\n",
    "Substituting the given values, we get:\n",
    "\n",
    "t = (85 - 82) / √((6^2 / 30) + (5^2 / 30)) = 3 / 0.8246 = 3.64\n",
    "\n",
    "The degrees of freedom for the t-test is (nA + nB - 2) = 58.\n",
    "\n",
    "The critical t-value for a two-tailed test with 58 degrees of freedom at a significance level of 0.01 is ±2.660.\n",
    "\n",
    "Since our calculated t-value (3.64) falls outside the critical range of -2.660 to 2.660, we reject the null hypothesis.\n",
    "\n",
    "Therefore, we can conclude that there is enough evidence to support the claim that the two teaching methods have a significant difference in student performance at a 99% confidence level."
   ]
  },
  {
   "cell_type": "code",
   "execution_count": null,
   "id": "cd889ab8-846a-474d-a776-f7aecfdb86f2",
   "metadata": {},
   "outputs": [],
   "source": [
    "#q11"
   ]
  },
  {
   "cell_type": "code",
   "execution_count": null,
   "id": "582ff268-8e71-4dca-aa36-0f014bedf868",
   "metadata": {},
   "outputs": [],
   "source": [
    "\n",
    "\n",
    "To calculate the 95% confidence interval for the true proportion of people who are satisfied with their job, we will use the formula:\n",
    "\n",
    "CI = p̂ ± z * √(p̂(1 - p̂) / n)\n",
    "\n",
    "where:\n",
    "p̂ = sample proportion\n",
    "z = z-score from the standard normal distribution corresponding to the desired confidence level\n",
    "n = sample size\n",
    "\n",
    "Substituting the given values, we get:\n",
    "\n",
    "CI = 0.65 ± 1.96 * √((0.65 * 0.35) / 500)\n",
    "\n",
    "Simplifying, we get:\n",
    "\n",
    "CI = 0.65 ± 0.0412\n",
    "\n",
    "Therefore, the 95% confidence interval for the true proportion of people who are satisfied with their job is (0.6088, 0.6912).\n",
    "\n",
    "We can interpret this interval as follows: We are 95% confident that the true proportion of people who are satisfied with their job falls between 0.6088 and 0.6912 based on the given sample data."
   ]
  },
  {
   "cell_type": "code",
   "execution_count": null,
   "id": "f64eafbe-065c-4bb8-89c0-2ccd8a0dd02f",
   "metadata": {},
   "outputs": [],
   "source": [
    "#q10"
   ]
  },
  {
   "cell_type": "code",
   "execution_count": null,
   "id": "e0a7e837-e1b1-4955-9ca7-673eadfc0a66",
   "metadata": {},
   "outputs": [],
   "source": [
    "\n",
    "\n",
    "To conduct a hypothesis test to determine if the weight loss drug is significantly effective, we need to state our null and alternative hypotheses.\n",
    "\n",
    "Null hypothesis (H0): The weight loss drug is not significantly effective (μ = 0).\n",
    "Alternative hypothesis (Ha): The weight loss drug is significantly effective (μ ≠ 0).\n",
    "\n",
    "We will use a two-tailed t-test since we are testing for a significant difference in either direction between the sample mean and the population mean.\n",
    "\n",
    "We will use a significance level of 0.05, which corresponds to a 95% confidence level.\n",
    "\n",
    "The formula for the t-test statistic for a single sample is:\n",
    "\n",
    "t = (x̄ - μ) / (s / √n)\n",
    "\n",
    "where:\n",
    "x̄ = sample mean\n",
    "μ = population mean (null hypothesis value)\n",
    "s = sample standard deviation\n",
    "n = sample size\n",
    "\n",
    "Substituting the given values, we get:\n",
    "\n",
    "t = (6 - 0) / (2.5 / √50) = 12 / 3.5355 = 3.395\n",
    "\n",
    "The degrees of freedom for the t-test is (n - 1) = 49.\n",
    "\n",
    "The critical t-value for a two-tailed test with 49 degrees of freedom at a significance level of 0.05 is ±2.009.\n",
    "\n",
    "Since our calculated t-value (3.395) falls outside the critical range of -2.009 to 2.009, we reject the null hypothesis.\n",
    "\n",
    "Therefore, we can conclude that there is enough evidence to support the claim that the weight loss drug is significantly effective at a 95% confidence level."
   ]
  },
  {
   "cell_type": "code",
   "execution_count": null,
   "id": "2be0eb6f-4652-4d02-9ca1-b8a49265740c",
   "metadata": {},
   "outputs": [],
   "source": [
    "#q9"
   ]
  },
  {
   "cell_type": "code",
   "execution_count": null,
   "id": "c6f5f46e-a8a9-4361-a0ee-5c6d4353cd3c",
   "metadata": {},
   "outputs": [],
   "source": [
    "\n",
    "\n",
    "To calculate the z-score for a data point with a value of 75, a population mean of 70, and a population standard deviation of 5, we can use the formula:\n",
    "\n",
    "z = (x - μ) / σ\n",
    "\n",
    "where:\n",
    "x = the data point value\n",
    "μ = the population mean\n",
    "σ = the population standard deviation\n",
    "\n",
    "Substituting the given values, we get:\n",
    "\n",
    "z = (75 - 70) / 5 = 1\n",
    "\n",
    "Therefore, the z-score for this data point is 1.\n",
    "\n",
    "Interpretation: A z-score of 1 means that the data point of 75 is one standard deviation above the population mean of 70. In other words, this data point is relatively high compared to the rest of the population. We can also use a standard normal distribution table or calculator to find the probability associated with this z-score.\n",
    "For example, the probability of getting a z-score of 1 or higher is 0.1587, which means that there is a 15.87% chance of getting a data point of 75 or higher in a normal distribution with a mean of 70 and a standard deviation of 5."
   ]
  },
  {
   "cell_type": "code",
   "execution_count": null,
   "id": "bb376934-3cba-4d49-914e-9629fe9945a5",
   "metadata": {},
   "outputs": [],
   "source": [
    "#q8"
   ]
  },
  {
   "cell_type": "code",
   "execution_count": null,
   "id": "104c8fc0-ba93-4f9b-a369-e67792595086",
   "metadata": {},
   "outputs": [],
   "source": [
    "The margin of error in a confidence interval is the range of values above and below the point estimate that is likely to contain the true population parameter at a specified level of confidence. It is a measure of the precision of the point estimate and is affected by the sample size, level of confidence, and variability of the population.\n",
    "\n",
    "A larger sample size tends to result in a smaller margin of error because as the sample size increases, the sample mean becomes more representative of the population mean, and the variability of the sample mean decreases. The margin of error is inversely proportional to the square root of the sample size, which means that as the sample size increases, the margin of error decreases.\n",
    "\n",
    "For example, let's say we want to estimate the proportion of voters in a city who support a particular candidate. We take a sample of 100 voters and find that 60% of them support the candidate. We want to calculate a 95% confidence interval for the true proportion of voters who support the candidate.\n",
    "\n",
    "Using a formula for calculating a confidence interval for a proportion, we find that the margin of error is 0.1, which means that the true proportion of voters who support the candidate is likely to be between 0.5 - 0.1 = 0.4 and 0.5 + 0.1 = 0.6, with 95% confidence.\n",
    "\n",
    "If we were to increase the sample size to 400, assuming the same proportion of voters support the candidate, the margin of error would decrease to 0.05, which means that the true proportion of voters who support the candidate is likely to be between 0.5 - 0.05 = 0.45 and 0.5 + 0.05 = 0.55, with 95% confidence.\n",
    "\n",
    "In this example, a larger sample size results in a smaller margin of error because a larger sample size provides more information about the population, which makes the estimate more precise and accurate."
   ]
  },
  {
   "cell_type": "code",
   "execution_count": null,
   "id": "967e479a-1c36-4208-87c7-4bff67566a29",
   "metadata": {},
   "outputs": [],
   "source": [
    "#q7"
   ]
  },
  {
   "cell_type": "code",
   "execution_count": null,
   "id": "f0510449-bcd4-4f5d-96ce-04c003305e63",
   "metadata": {},
   "outputs": [],
   "source": [
    "To calculate the 95% confidence interval for a sample of data with a mean of 50 and a standard deviation of 5, we can use the following formula:\n",
    "\n",
    "Confidence interval = sample mean ± (critical value) x (standard error)\n",
    "\n",
    "Where the critical value is based on the level of confidence, and the standard error is calculated as the standard deviation divided by the square root of the sample size.\n",
    "\n",
    "Assuming a normal distribution, with a sample size of 30 (which is generally considered sufficient for normality), and a level of confidence of 95%, we can use a standard normal distribution table to find the critical value associated with this confidence level, which is approximately 1.96.\n",
    "\n",
    "Thus, the confidence interval can be calculated as follows:\n",
    "\n",
    "Confidence interval = 50 ± 1.96 x (5 / sqrt(30)) = (48.17, 51.83)\n",
    "\n",
    "Therefore, we can say with 95% confidence that the true population mean falls between 48.17 and 51.83.\n",
    "\n",
    "Interpretation: The confidence interval tells us that if we were to take many samples of the same size from the same population, 95% of these samples would produce confidence intervals that contain the true population mean. The margin of error of the confidence interval is equal to half of the interval's width, which in this case is approximately 1.83. This means that our estimate of the population mean based on the sample mean of 50 could be off by up to 1.83 in either direction."
   ]
  },
  {
   "cell_type": "code",
   "execution_count": null,
   "id": "b27a1160-f73f-40e5-b4f5-4ed7c2cbd1c8",
   "metadata": {},
   "outputs": [],
   "source": [
    "#q6"
   ]
  },
  {
   "cell_type": "code",
   "execution_count": null,
   "id": "f5318365-d59d-4477-8765-3e9fe1761d71",
   "metadata": {},
   "outputs": [],
   "source": [
    "Bayes' Theorem is a mathematical formula used to update the probability of an event occurring based on new evidence. It is expressed as:\n",
    "\n",
    "P(A|B) = P(B|A) x P(A) / P(B)\n",
    "\n",
    "where:\n",
    "- P(A|B) is the probability of event A occurring given that event B has occurred\n",
    "- P(B|A) is the probability of event B occurring given that event A has occurred\n",
    "- P(A) is the prior probability of event A occurring\n",
    "- P(B) is the prior probability of event B occurring\n",
    "\n",
    "Here is a sample problem and solution:\n",
    "\n",
    "Problem:\n",
    "Suppose a company produces two types of smartphones: Type A and Type B. It is known that 60% of the smartphones produced are Type A, while the remaining 40% are Type B. It is also known that the probability of a Type A smartphone malfunctioning is 10%, while the probability of a Type B smartphone malfunctioning is 5%. If a customer reports a malfunctioning smartphone, what is the probability that it is a Type A smartphone?\n",
    "\n",
    "Solution:\n",
    "Let A be the event that the smartphone is Type A, and B be the event that the smartphone is malfunctioning. We are asked to find the probability of A given B, or P(A|B).\n",
    "\n",
    "From the problem, we know that:\n",
    "- P(A) = 0.6 (the prior probability of a smartphone being Type A)\n",
    "- P(B|A) = 0.1 (the probability of a malfunction given that the smartphone is Type A)\n",
    "- P(B|not A) = 0.05 (the probability of a malfunction given that the smartphone is not Type A)\n",
    "\n",
    "We can calculate P(B) using the law of total probability:\n",
    "P(B) = P(B|A) x P(A) + P(B|not A) x P(not A)\n",
    "     = 0.1 x 0.6 + 0.05 x 0.4\n",
    "     = 0.07\n",
    "\n",
    "Now we can use Bayes' Theorem to calculate P(A|B):\n",
    "P(A|B) = P(B|A) x P(A) / P(B)\n",
    "       = 0.1 x 0.6 / 0.07\n",
    "       = 0.857 (rounded to three decimal places)\n",
    "\n",
    "Therefore, the probability that the malfunctioning smartphone is a Type A smartphone is 0.857, or 85.7%."
   ]
  },
  {
   "cell_type": "code",
   "execution_count": null,
   "id": "5657c0cc-1c06-4cda-b115-ba914592e75f",
   "metadata": {},
   "outputs": [],
   "source": [
    "#q5"
   ]
  },
  {
   "cell_type": "code",
   "execution_count": null,
   "id": "1e4686d9-b1d4-4de8-9978-928c71026211",
   "metadata": {},
   "outputs": [],
   "source": [
    "A confidence interval is a range of values that is used to estimate the true value of a population parameter, such as a population mean or proportion, based on a sample of data. The confidence interval provides a level of uncertainty or margin of error around the sample estimate, and it is expressed as a range of values with a certain level of confidence.\n",
    "\n",
    "For example, suppose we want to estimate the mean height of all students in a university. We take a random sample of 100 students and measure their heights, finding a sample mean of 68 inches and a sample standard deviation of 3 inches. We can use this information to calculate a 95% confidence interval for the true mean height of all students in the university.\n",
    "\n",
    "To calculate the confidence interval, we use the following formula:\n",
    "\n",
    "Confidence interval = sample mean ± (critical value) x (standard error)\n",
    "\n",
    "where the critical value is determined based on the level of confidence desired and the degrees of freedom (n - 1) for the sample, and the standard error is the standard deviation of the sampling distribution of the mean, which is calculated as:\n",
    "\n",
    "Standard error = sample standard deviation / sqrt(sample size)\n",
    "\n",
    "For a 95% confidence interval with a sample size of 100, the critical value is 1.96 (obtained from a standard normal distribution table), and the standard error is 0.3 (calculated as 3 / sqrt(100)). Therefore, the 95% confidence interval for the true mean height of all students in the university is:\n",
    "\n",
    "68 ± 1.96 x 0.3\n",
    "\n",
    "which simplifies to:\n",
    "\n",
    "68 ± 0.59\n",
    "\n",
    "Thus, we can be 95% confident that the true mean height of all students in the university falls within the range of 67.41 to 68.59 inches.\n",
    "\n",
    "In this example, the confidence interval provides a range of values that estimates the true population mean height of all students in the university with a 95% level of confidence. The confidence interval gives us a sense of how precise our estimate is likely to be and the level of uncertainty around the estimate."
   ]
  },
  {
   "cell_type": "code",
   "execution_count": null,
   "id": "e4281fb7-6682-4e67-882d-7f306dbab436",
   "metadata": {},
   "outputs": [],
   "source": [
    "#q4"
   ]
  },
  {
   "cell_type": "code",
   "execution_count": null,
   "id": "d924a197-2b55-4569-8b87-ccf1f4848e6b",
   "metadata": {},
   "outputs": [],
   "source": [
    "Bayes's theorem is a mathematical formula that allows us to calculate the probability of an event occurring given prior knowledge of the event's probability and new evidence. It is used to update our beliefs or prior probabilities based on new information.\n",
    "\n",
    "The formula for Bayes's theorem is:\n",
    "\n",
    "P(A|B) = P(B|A) x P(A) / P(B)\n",
    "\n",
    "where:\n",
    "\n",
    "- P(A|B) is the probability of event A occurring given new evidence B\n",
    "- P(B|A) is the probability of the evidence B occurring given that event A has occurred\n",
    "- P(A) is the prior probability of event A occurring before considering the new evidence B\n",
    "- P(B) is the probability of the evidence B occurring, calculated as the sum of the probabilities of B occurring given A and B not occurring given not A\n",
    "\n",
    "To illustrate Bayes's theorem, consider the following example:\n",
    "\n",
    "Suppose a medical test is designed to detect a rare disease that affects 1% of the population. The test has a 95% accuracy rate, meaning it correctly identifies 95% of people who have the disease and 95% of people who do not have the disease. If a person tests positive for the disease, what is the probability that they actually have the disease?\n",
    "\n",
    "Using Bayes's theorem, we can calculate the probability of having the disease given a positive test result:\n",
    "\n",
    "- P(A) = 0.01 (prior probability of having the disease)\n",
    "- P(B|A) = 0.95 (probability of testing positive given that the person has the disease)\n",
    "- P(B|not A) = 0.05 (probability of testing positive given that the person does not have the disease)\n",
    "- P(B) = P(B|A) x P(A) + P(B|not A) x P(not A) = 0.95 x 0.01 + 0.05 x 0.99 = 0.059\n",
    "\n",
    "Substituting these values into Bayes's theorem, we get:\n",
    "\n",
    "P(A|B) = P(B|A) x P(A) / P(B) = 0.95 x 0.01 / 0.059 = 0.161\n",
    "\n",
    "Therefore, the probability of actually having the disease given a positive test result is approximately 16.1%. This means that even if a person tests positive for the disease, there is still an 83.9% chance that they do not have the disease, due to the low prior probability of having the disease and the imperfect accuracy of the test.\n",
    "\n",
    "Bayes's theorem can be a useful tool in many areas, such as medical diagnosis, spam filtering, and risk analysis, where we need to update our beliefs or probabilities based on new information."
   ]
  },
  {
   "cell_type": "code",
   "execution_count": null,
   "id": "a472974a-f1ba-4ab5-bcfb-bfeff2788889",
   "metadata": {},
   "outputs": [],
   "source": [
    "#q3"
   ]
  },
  {
   "cell_type": "code",
   "execution_count": null,
   "id": "85e3d7d9-1526-49ec-b776-248b0003abf9",
   "metadata": {},
   "outputs": [],
   "source": [
    "In hypothesis testing, Type 1 and Type 2 errors are two types of mistakes that can occur when deciding whether to reject or fail to reject a null hypothesis.\n",
    "\n",
    "Type 1 error occurs when we reject a null hypothesis that is actually true. In other words, we conclude that there is a significant difference or effect when there is not one. The probability of making a Type 1 error is denoted as alpha (α), and it is usually set at 0.05 or 0.01, depending on the level of significance chosen for the test.\n",
    "\n",
    "An example scenario of Type 1 error is a drug company testing a new medication on patients. The null hypothesis would be that the new medication does not have a significant effect, and the alternative hypothesis would be that it does. If the drug company mistakenly rejects the null hypothesis and concludes that the medication is effective when it is not, they might release a drug that does not work and may even cause harm to patients.\n",
    "\n",
    "Type 2 error occurs when we fail to reject a null hypothesis that is actually false. In other words, we conclude that there is no significant difference or effect when there is one. The probability of making a Type 2 error is denoted as beta (β), and it is affected by factors such as sample size, effect size, and level of significance.\n",
    "\n",
    "An example scenario of Type 2 error is a company testing a new marketing campaign to increase sales. The null hypothesis would be that the new campaign does not have a significant effect on sales, and the alternative hypothesis would be that it does. If the company fails to reject the null hypothesis and concludes that the new campaign is not effective when it actually is, they might miss an opportunity to increase their sales.\n",
    "\n",
    "To minimize the risk of both types of errors, it is important to choose an appropriate level of significance, use an adequate sample size, and carefully consider the practical and statistical significance of the results."
   ]
  },
  {
   "cell_type": "code",
   "execution_count": null,
   "id": "35fa6d0c-b8e0-407e-974d-c4cba7eed4d0",
   "metadata": {},
   "outputs": [],
   "source": [
    "#q2"
   ]
  },
  {
   "cell_type": "code",
   "execution_count": null,
   "id": "334115f5-1333-47e4-81d9-d4b2233d38af",
   "metadata": {},
   "outputs": [],
   "source": [
    "In hypothesis testing, one-tailed and two-tailed tests refer to the directionality of the alternative hypothesis.\n",
    "\n",
    "In a one-tailed test, the alternative hypothesis predicts the direction of the effect. That is, it states that the sample mean is significantly greater than or less than the population mean, but not both. One-tailed tests are used when the researcher has a clear expectation of the direction of the effect based on previous research or theory. The critical region for the test is located entirely on one side of the sampling distribution, either the upper or lower tail.\n",
    "\n",
    "For example, in a study investigating the effect of a new drug on blood pressure, a one-tailed test with a directional alternative hypothesis might be used to test whether the drug reduces blood pressure. The null hypothesis would be that the drug has no effect on blood pressure, and the alternative hypothesis would be that it reduces blood pressure.\n",
    "\n",
    "In a two-tailed test, the alternative hypothesis predicts that there is a significant difference between the sample mean and the population mean, but not the direction of the effect. Two-tailed tests are used when the researcher has no clear expectation of the direction of the effect. The critical region for the test is located on both sides of the sampling distribution, the upper and lower tails.\n",
    "\n",
    "For example, in a study investigating the effect of a new exercise program on weight loss, a two-tailed test with a non-directional alternative hypothesis might be used to test whether the exercise program leads to weight loss. The null hypothesis would be that the exercise program has no effect on weight loss, and the alternative hypothesis would be that it leads to weight loss, regardless of whether it is a small or large amount.\n",
    "\n",
    "In summary, one-tailed tests are used when the researcher has a clear expectation of the direction of the effect, while two-tailed tests are used when there is no clear expectation of the direction of the effect."
   ]
  },
  {
   "cell_type": "code",
   "execution_count": null,
   "id": "4c971f9c-f586-4421-8df7-68f8acac70d7",
   "metadata": {},
   "outputs": [],
   "source": [
    "#q1"
   ]
  },
  {
   "cell_type": "code",
   "execution_count": null,
   "id": "5997d069-fc1c-428a-a289-e6c84a601b02",
   "metadata": {},
   "outputs": [],
   "source": [
    "T-tests and z-tests are statistical hypothesis tests used to make inferences about population parameters based on sample statistics. The main difference between these tests is that the t-test is used when the population standard deviation is unknown, while the z-test is used when the population standard deviation is known.\n",
    "\n",
    "A t-test is used to determine whether the mean of a sample is significantly different from the hypothesized population mean. It is typically used when the sample size is small (less than 30) and the population standard deviation is unknown. The t-test uses the sample standard deviation to estimate the population standard deviation and calculate the test statistic. A t-test can be one-tailed or two-tailed, depending on the research question.\n",
    "\n",
    "For example, a researcher wants to test whether the mean IQ of a sample of 20 students is significantly different from the population mean IQ of 100. Since the population standard deviation is unknown, a t-test is used to calculate the test statistic and determine whether the sample mean is significantly different from the hypothesized population mean.\n",
    "\n",
    "On the other hand, a z-test is used when the population standard deviation is known, and the sample size is large (greater than 30). It is used to determine whether the mean of a sample is significantly different from the hypothesized population mean. The z-test uses the population standard deviation to calculate the test statistic, and the test is typically two-tailed.\n",
    "\n",
    "For example, a researcher wants to test whether the mean height of a sample of 1000 adults is significantly different from the population mean height of 5'8\". Since the population standard deviation of height is known, a z-test is used to calculate the test statistic and determine whether the sample mean height is significantly different from the hypothesized population mean.\n",
    "\n",
    "In summary, the main difference between a t-test and a z-test is the population standard deviation. A t-test is used when the population standard deviation is unknown, and the sample size is small, while a z-test is used when the population standard deviation is known, and the sample size is large."
   ]
  },
  {
   "cell_type": "code",
   "execution_count": null,
   "id": "a1e5c394-2872-44ee-a012-37f6aadd1d85",
   "metadata": {},
   "outputs": [],
   "source": []
  },
  {
   "cell_type": "code",
   "execution_count": null,
   "id": "b4a3bd64-163b-494b-9208-3e51f28ba8c6",
   "metadata": {},
   "outputs": [],
   "source": []
  },
  {
   "cell_type": "code",
   "execution_count": null,
   "id": "55545c7b-a942-4d1f-a437-75d40707e81e",
   "metadata": {},
   "outputs": [],
   "source": []
  },
  {
   "cell_type": "code",
   "execution_count": null,
   "id": "9b972de6-e3f5-4cb5-b080-12e540ebac8b",
   "metadata": {},
   "outputs": [],
   "source": []
  },
  {
   "cell_type": "code",
   "execution_count": null,
   "id": "ac7cdb1b-24ee-4b6a-9d71-8dcb29be02f4",
   "metadata": {},
   "outputs": [],
   "source": []
  }
 ],
 "metadata": {
  "kernelspec": {
   "display_name": "Python 3 (ipykernel)",
   "language": "python",
   "name": "python3"
  },
  "language_info": {
   "codemirror_mode": {
    "name": "ipython",
    "version": 3
   },
   "file_extension": ".py",
   "mimetype": "text/x-python",
   "name": "python",
   "nbconvert_exporter": "python",
   "pygments_lexer": "ipython3",
   "version": "3.10.6"
  }
 },
 "nbformat": 4,
 "nbformat_minor": 5
}
